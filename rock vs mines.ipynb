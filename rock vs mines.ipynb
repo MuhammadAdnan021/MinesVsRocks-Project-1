{
 "cells": [
  {
   "cell_type": "code",
   "execution_count": 33,
   "metadata": {
    "collapsed": false
   },
   "outputs": [],
   "source": [
    "##STEP 2 Base line\n",
    "import numpy\n",
    "import pandas\n",
    "from keras.models import Sequential\n",
    "from keras.layers import Dense\n",
    "import matplotlib.pyplot as plt\n",
    "from keras.wrappers.scikit_learn import KerasClassifier\n",
    "from sklearn.model_selection import cross_val_score\n",
    "from sklearn.preprocessing import LabelEncoder\n",
    "from sklearn.model_selection import StratifiedKFold\n",
    "from sklearn.preprocessing import StandardScaler\n",
    "from sklearn.pipeline import Pipeline\n"
   ]
  },
  {
   "cell_type": "code",
   "execution_count": 2,
   "metadata": {
    "collapsed": false
   },
   "outputs": [],
   "source": [
    "# fix random seed for reproducibility\n",
    "seed = 7\n",
    "numpy.random.seed(seed)\n",
    "\n"
   ]
  },
  {
   "cell_type": "code",
   "execution_count": 3,
   "metadata": {
    "collapsed": false
   },
   "outputs": [],
   "source": [
    "##load dataset\n",
    "dataframe = pandas.read_csv(\"sonar.csv\",header=None)\n",
    "dataset = dataframe.values\n",
    "\n"
   ]
  },
  {
   "cell_type": "code",
   "execution_count": 4,
   "metadata": {
    "collapsed": false
   },
   "outputs": [],
   "source": [
    "##split into input (x) and output (y) variable\n",
    "X = dataset[:,0:60].astype(float)\n",
    "Y = dataset[:,60]"
   ]
  },
  {
   "cell_type": "code",
   "execution_count": 5,
   "metadata": {
    "collapsed": false
   },
   "outputs": [
    {
     "data": {
      "text/plain": [
       "(208, 60)"
      ]
     },
     "execution_count": 5,
     "metadata": {},
     "output_type": "execute_result"
    }
   ],
   "source": [
    "X.shape"
   ]
  },
  {
   "cell_type": "code",
   "execution_count": 6,
   "metadata": {
    "collapsed": false
   },
   "outputs": [],
   "source": [
    "## encode class values as integers\n",
    "encoder = LabelEncoder()\n",
    "encoder_Y = encoder.fit_transform(Y)"
   ]
  },
  {
   "cell_type": "code",
   "execution_count": null,
   "metadata": {
    "collapsed": false
   },
   "outputs": [],
   "source": []
  },
  {
   "cell_type": "code",
   "execution_count": 7,
   "metadata": {
    "collapsed": false
   },
   "outputs": [],
   "source": [
    "# baseline model\n",
    "def create_baseline():\n",
    "    # create model\n",
    "    model = Sequential()\n",
    "    model.add(Dense(60, input_shape=(60,), kernel_initializer='normal', activation='relu'))\n",
    "    model.add(Dense(60, kernel_initializer='normal', activation='relu'))\n",
    "    model.add(Dense(1, kernel_initializer='normal', activation='sigmoid'))\n",
    "    # Compile model\n",
    "    model.compile(loss='binary_crossentropy', optimizer='adam', metrics=['accuracy'])\n",
    "    return model"
   ]
  },
  {
   "cell_type": "code",
   "execution_count": 8,
   "metadata": {
    "collapsed": false
   },
   "outputs": [
    {
     "name": "stdout",
     "output_type": "stream",
     "text": [
      "Results: 82.73% (4.79%)\n"
     ]
    }
   ],
   "source": [
    "# evaluate model with standardized dataset\n",
    "estimator = KerasClassifier(build_fn=create_baseline, epochs=100, batch_size=5, verbose=0)\n",
    "kfold = StratifiedKFold(n_splits=10, shuffle=True, random_state=seed)\n",
    "results = cross_val_score(estimator, X, encoder_Y, cv=kfold)\n",
    "print(\"Results: %.2f%% (%.2f%%)\" % (results.mean()*100, results.std()*100))\n"
   ]
  },
  {
   "cell_type": "code",
   "execution_count": 9,
   "metadata": {
    "collapsed": false,
    "scrolled": true
   },
   "outputs": [
    {
     "name": "stdout",
     "output_type": "stream",
     "text": [
      "Standardized: 85.61% (8.51%)\n"
     ]
    }
   ],
   "source": [
    "# evaluate baseline model with standardized dataset\n",
    "numpy.random.seed(seed)\n",
    "estimators = []\n",
    "estimators.append(('standardize', StandardScaler()))\n",
    "estimators.append(('mlp', KerasClassifier(build_fn=create_baseline, epochs=100, batch_size=5, verbose=0)))\n",
    "pipeline = Pipeline(estimators)\n",
    "kfold = StratifiedKFold(n_splits=10, shuffle=True, random_state=seed)\n",
    "results = cross_val_score(pipeline, X, encoder_Y, cv=kfold)\n",
    "print(\"Standardized: %.2f%% (%.2f%%)\" % (results.mean()*100, results.std()*100))\n"
   ]
  },
  {
   "cell_type": "markdown",
   "metadata": {},
   "source": [
    "# 4.1. Evaluate a Smaller Network"
   ]
  },
  {
   "cell_type": "code",
   "execution_count": 10,
   "metadata": {
    "collapsed": false
   },
   "outputs": [
    {
     "name": "stdout",
     "output_type": "stream",
     "text": [
      "Smaller: 85.04% (7.70%)\n"
     ]
    }
   ],
   "source": [
    "# smaller model\n",
    "def create_smaller():\n",
    "\t# create model\n",
    "\tmodel = Sequential()\n",
    "\tmodel.add(Dense(30, input_dim=60, kernel_initializer='normal', activation='relu'))\n",
    "\tmodel.add(Dense(1, kernel_initializer='normal', activation='sigmoid'))\n",
    "\t# Compile model\n",
    "\tmodel.compile(loss='binary_crossentropy', optimizer='adam', metrics=['accuracy'])\n",
    "\treturn model\n",
    "estimators = []\n",
    "estimators.append(('standardize', StandardScaler()))\n",
    "estimators.append(('mlp', KerasClassifier(build_fn=create_smaller, epochs=120, batch_size=5, verbose=0)))\n",
    "pipeline = Pipeline(estimators)\n",
    "kfold = StratifiedKFold(n_splits=10, shuffle=True, random_state=seed)\n",
    "results = cross_val_score(pipeline, X, encoder_Y, cv=kfold)\n",
    "print(\"Smaller: %.2f%% (%.2f%%)\" % (results.mean()*100, results.std()*100))"
   ]
  },
  {
   "cell_type": "markdown",
   "metadata": {},
   "source": [
    "# Step 4.2. Evaluate a Larger Network"
   ]
  },
  {
   "cell_type": "code",
   "execution_count": 11,
   "metadata": {
    "collapsed": false
   },
   "outputs": [
    {
     "name": "stdout",
     "output_type": "stream",
     "text": [
      "Larger: 83.63% (7.84%)\n"
     ]
    }
   ],
   "source": [
    "# larger model\n",
    "def create_larger():\n",
    "\t# create model\n",
    "\tmodel = Sequential()\n",
    "\tmodel.add(Dense(120, input_dim=60, kernel_initializer='normal', activation='relu'))\n",
    "\tmodel.add(Dense(30, kernel_initializer='normal', activation='relu'))\n",
    "\tmodel.add(Dense(1, kernel_initializer='normal', activation='sigmoid'))\n",
    "\t# Compile model\n",
    "\tmodel.compile(loss='binary_crossentropy', optimizer='adam', metrics=['accuracy'])\n",
    "\treturn model\n",
    "estimators = []\n",
    "estimators.append(('standardize', StandardScaler()))\n",
    "estimators.append(('mlp', KerasClassifier(build_fn=create_larger, epochs=130, batch_size=5, verbose=0)))\n",
    "pipeline = Pipeline(estimators)\n",
    "kfold = StratifiedKFold(n_splits=10, shuffle=True, random_state=seed)\n",
    "results = cross_val_score(pipeline, X, encoder_Y, cv=kfold)\n",
    "print(\"Larger: %.2f%% (%.2f%%)\" % (results.mean()*100, results.std()*100))"
   ]
  },
  {
   "cell_type": "markdown",
   "metadata": {
    "collapsed": true
   },
   "source": [
    "# Step 5: Really Scaling up: developing a model that overfits"
   ]
  },
  {
   "cell_type": "code",
   "execution_count": 12,
   "metadata": {
    "collapsed": false
   },
   "outputs": [
    {
     "name": "stdout",
     "output_type": "stream",
     "text": [
      "Larger: 84.13% (7.42%)\n"
     ]
    }
   ],
   "source": [
    "def overfit_model():\n",
    "# tuning the  model\n",
    "    model = Sequential()\n",
    "    model.add(Dense(130, input_dim=60, kernel_initializer='normal', activation='relu'))\n",
    "    model.add(Dense(110, kernel_initializer='initializer.random_normal()', kernal_regularizer='regularizers.l2(0.001)', activation='relu'))\n",
    "    model.add(Dense(100, kernel_initializer='initializer.random_normal()', kernal_regularizer='regularizers.l2(0.001)', activation='relu'))\n",
    "    model.add(Dese(70, kernal_initializer='initializer.ramdom_normal()', kernal_regularizer='regularizers.l2(0.001)', activation='relu'))\n",
    "    model.add(Dense(50, kernal_initializer='initalizer.random_normal()', kernal_regularizer='regularizers.l2(0.001)', activation='relu'))\n",
    "    model.add(Dense(30, kernal_initializer='initializer.random_normal()', kernal_regularizer='regularizers.l2(0.001)',activation='relu'))\n",
    "    model.add(Dense(10, kernal_initializer='initialzer.random_normal()', kernal_regularizer='regularizers.l2(0.001)', activation='relu'))\n",
    "    model.add(Dense(1, kernel_initializer='normal', activation='sigmoid'))\n",
    "# Compile model\n",
    "    model.compile(loss='binary_crossentropy', optimizer='adam', metrics=['accuracy'])\n",
    "    return model\n",
    "estimators = []\n",
    "estimators.append(('standardize', StandardScaler()))\n",
    "estimators.append(('mlp', KerasClassifier(build_fn=create_larger, epochs=200, batch_size=5, verbose=0)))\n",
    "pipeline = Pipeline(estimators)\n",
    "kfold = StratifiedKFold(n_splits=10, shuffle=True, random_state=seed)\n",
    "results = cross_val_score(pipeline, X, encoder_Y, cv=kfold)\n",
    "print(\"Larger: %.2f%% (%.2f%%)\" % (results.mean()*100, results.std()*100))"
   ]
  },
  {
   "cell_type": "markdown",
   "metadata": {},
   "source": [
    "# Step 6: Tuning the model"
   ]
  },
  {
   "cell_type": "code",
   "execution_count": 13,
   "metadata": {
    "collapsed": false
   },
   "outputs": [
    {
     "name": "stdout",
     "output_type": "stream",
     "text": [
      "Tune Model: 87.03% (6.12%)\n"
     ]
    }
   ],
   "source": [
    "from keras.regularizers import l2\n",
    "def Tune_model():\n",
    "    model = Sequential()\n",
    "    model.add(Dense(60, kernel_initializer='normal', kernel_regularizer=l2(0.001), activation='relu',input_dim=60))\n",
    "    model.add(Dense(40, kernel_initializer='normal', kernel_regularizer=l2(0.001), activation='relu',))\n",
    "    model.add(Dense(20, kernel_initializer='normal', kernel_regularizer=l2(0.001), activation='relu',))\n",
    "    model.add(Dense(1, kernel_initializer='normal', kernel_regularizer=l2(0.001), activation='sigmoid'))\n",
    "    \n",
    "    # Compile model\n",
    "    model.compile(loss='binary_crossentropy', optimizer='adam', metrics=['accuracy'])\n",
    "    return model\n",
    "\n",
    "estimators = []\n",
    "estimators.append(('standardize', StandardScaler()))\n",
    "estimators.append(('mlp', KerasClassifier(build_fn=Tune_model, epochs=155, batch_size=10, verbose=0)))\n",
    "pipeline = Pipeline(estimators)\n",
    "kfold = StratifiedKFold(n_splits=12, shuffle=True, random_state=seed)\n",
    "results = cross_val_score(pipeline, X, encoder_Y, cv=kfold)\n",
    "print(\"Tune Model: %.2f%% (%.2f%%)\" % (results.mean()*100, results.std()*100))"
   ]
  },
  {
   "cell_type": "markdown",
   "metadata": {},
   "source": [
    "# Step 7: Rewriting the code using the Keras Functional API"
   ]
  },
  {
   "cell_type": "code",
   "execution_count": 14,
   "metadata": {
    "collapsed": false
   },
   "outputs": [
    {
     "name": "stdout",
     "output_type": "stream",
     "text": [
      "Functional API Model: 85.12% (6.78%)\n"
     ]
    }
   ],
   "source": [
    "from keras import layers\n",
    "from keras.regularizers import l2\n",
    "from keras import models\n",
    "def Function_API_Model():\n",
    "    \n",
    "    input_tensors = layers.Input(shape=(60,))\n",
    "    a = layers.Dense(60, activation='relu')(input_tensors)\n",
    "    b = layers.Dense(40, activation='relu', kernel_initializer='normal', kernel_regularizer=l2(0.001))(a)\n",
    "    c = layers.Dense(20, activation='relu', kernel_initializer='normal', kernel_regularizer=l2(0.001))(b)\n",
    "    output_tensor = layers.Dense(1, activation='sigmoid', kernel_initializer='normal', kernel_regularizer=l2(0.001))(c)\n",
    "\n",
    "    model = models.Model(inputs=input_tensors, outputs=output_tensor)\n",
    "    model.compile(optimizer=\"adam\" , loss='binary_crossentropy', metrics=['accuracy'])\n",
    "    return model\n",
    "    \n",
    "estimators = []\n",
    "estimators.append(('standardize', StandardScaler()))\n",
    "estimators.append(('mlp', KerasClassifier(build_fn=Function_API_Model, epochs=145, batch_size=10, verbose=0)))\n",
    "pipeline = Pipeline(estimators)\n",
    "kfold = StratifiedKFold(n_splits=12, shuffle=True, random_state=seed)\n",
    "results = cross_val_score(pipeline, X, encoder_Y, cv=kfold)\n",
    "print(\"Functional API Model: %.2f%% (%.2f%%)\" % (results.mean()*100, results.std()*100))"
   ]
  },
  {
   "cell_type": "markdown",
   "metadata": {},
   "source": [
    "# Step 8: Rewriting the code by doing Model Subclassing"
   ]
  },
  {
   "cell_type": "code",
   "execution_count": 15,
   "metadata": {
    "collapsed": false
   },
   "outputs": [
    {
     "data": {
      "text/plain": [
       "'1.8.0'"
      ]
     },
     "execution_count": 15,
     "metadata": {},
     "output_type": "execute_result"
    }
   ],
   "source": [
    "import tensorflow as tf\n",
    "\n",
    "tf.__version__"
   ]
  },
  {
   "cell_type": "code",
   "execution_count": 16,
   "metadata": {
    "collapsed": false
   },
   "outputs": [
    {
     "data": {
      "text/plain": [
       "<tensorflow.python.keras._impl.keras.callbacks.History at 0x15c2f941eb8>"
      ]
     },
     "execution_count": 16,
     "metadata": {},
     "output_type": "execute_result"
    }
   ],
   "source": [
    "import keras\n",
    "import tensorflow as tf\n",
    "\n",
    "class MyModel(tf.keras.Model):\n",
    "    \n",
    "        def __init__(self):\n",
    "                        super(MyModel, self).__init__()\n",
    "                        self.dense1 = layers.Dense(60, activation='relu')\n",
    "                        self.dense2 = layers.Dense(30, activation='relu')\n",
    "                        self.dense3 = layers.Dense(1, activation='sigmoid')\n",
    "\n",
    "        def call(self, inputs):\n",
    "                        x = self.dense1(inputs)\n",
    "                        x = self.dense2(x)\n",
    "                        return self.dense3(x)\n",
    "    \n",
    "model = MyModel()\n",
    "model.compile(loss='binary_crossentropy', optimizer='adam', metrics=['acc'])\n",
    "model.fit(X, encoder_Y, epochs=145, batch_size=4, verbose=False)"
   ]
  },
  {
   "cell_type": "markdown",
   "metadata": {},
   "source": [
    "# Step 9: Rewriting the code without using scikit-learn"
   ]
  },
  {
   "cell_type": "code",
   "execution_count": 23,
   "metadata": {
    "collapsed": true
   },
   "outputs": [],
   "source": [
    "from keras import models\n",
    "from keras import layers\n",
    "from keras.regularizers import l2\n",
    "\n",
    "def Tune_model():\n",
    "    model = Sequential()\n",
    "    model.add(Dense(60, kernel_initializer='normal', kernel_regularizer=l2(0.001), activation='relu',input_dim=60))\n",
    "    model.add(Dense(40, kernel_initializer='normal', kernel_regularizer=l2(0.001), activation='relu',))\n",
    "    model.add(Dense(20, kernel_initializer='normal', kernel_regularizer=l2(0.001), activation='relu',))\n",
    "    model.add(Dense(1, kernel_initializer='normal', kernel_regularizer=l2(0.001), activation='sigmoid'))\n",
    "    \n",
    "    # Compile model\n",
    "    model.compile(loss='binary_crossentropy', optimizer='adam', metrics=['accuracy'])\n",
    "    return model"
   ]
  },
  {
   "cell_type": "code",
   "execution_count": 24,
   "metadata": {
    "collapsed": false
   },
   "outputs": [],
   "source": [
    "# Shuffle the dataset before split in values and labels\n",
    "numpy.random.shuffle(dataset) \n",
    "X = dataset[:,0:60].astype(float)\n",
    "Y = dataset[:,60]\n",
    "\n",
    "# encode class values in o and 1\n",
    "label_encoder = LabelEncoder()\n",
    "encoded_Y = label_encoder.fit_transform(Y)\n",
    "\n",
    "# K-Fold\n",
    "k = 6\n",
    "num_val_samples = len(dataset) // k\n",
    "val_acc_list = [] # used for validation data accuracy\n",
    "val_loss_list = [] # used for Validation data loss\n",
    "\n",
    "for fold in range(k):\n",
    "    \n",
    "    # Validation dataset\n",
    "    val_data = X[fold * num_val_samples : (fold + 1) * num_val_samples]\n",
    "    \n",
    "    # Validation labels corresponding to the validation dataset\n",
    "    val_label = encoded_Y[fold * num_val_samples : (fold + 1) * num_val_samples]\n",
    "    \n",
    "    \n",
    "    # Training Dataset\n",
    "    partial_train_data = numpy.concatenate([X[:fold * num_val_samples],\n",
    "                                         X[(fold + 1) * num_val_samples:]],\n",
    "                                        axis=0)\n",
    "     # Training labels corresponding to the training dataset\n",
    "    partial_train_label = numpy.concatenate([encoded_Y[:fold * num_val_samples],\n",
    "                                          encoded_Y[(fold + 1) * num_val_samples:]],\n",
    "                                         axis=0)\n",
    "    \n",
    "    model = Tune_model()\n",
    "    result = model.fit(partial_train_data, partial_train_label, epochs=200, batch_size=29, verbose=0)\n",
    "    val_loss, val_acc = model.evaluate(val_data, val_label, verbose=0)\n",
    "    val_loss_list.append(val_loss)\n",
    "    val_acc_list.append(val_acc)"
   ]
  },
  {
   "cell_type": "code",
   "execution_count": 25,
   "metadata": {
    "collapsed": false
   },
   "outputs": [
    {
     "data": {
      "text/plain": [
       "([0.79411764705882348,\n",
       "  0.76470588235294112,\n",
       "  0.8529411764705882,\n",
       "  0.6470588235294118,\n",
       "  0.76470588235294112,\n",
       "  0.82352941176470584],\n",
       " [0.76750751234152736,\n",
       "  0.79424816983587598,\n",
       "  0.48462014689165001,\n",
       "  1.9166181223357426,\n",
       "  0.57355087995529175,\n",
       "  0.51159156420651608])"
      ]
     },
     "execution_count": 25,
     "metadata": {},
     "output_type": "execute_result"
    }
   ],
   "source": [
    "val_acc_list, val_loss_list"
   ]
  },
  {
   "cell_type": "code",
   "execution_count": 27,
   "metadata": {
    "collapsed": false
   },
   "outputs": [
    {
     "data": {
      "text/plain": [
       "0.77450980392156854"
      ]
     },
     "execution_count": 27,
     "metadata": {},
     "output_type": "execute_result"
    }
   ],
   "source": [
    "\n",
    "numpy.mean(val_acc_list)"
   ]
  },
  {
   "cell_type": "code",
   "execution_count": 31,
   "metadata": {
    "collapsed": false
   },
   "outputs": [],
   "source": [
    "# Shuffle the dataset before split in values and labels\n",
    "numpy.random.shuffle(dataset) \n",
    "X = dataset[:,0:60].astype(float)\n",
    "Y = dataset[:,60]\n",
    "\n",
    "# encode class values in o and 1\n",
    "label_encoder = LabelEncoder()\n",
    "encoded_Y = label_encoder.fit_transform(Y)\n",
    "\n",
    "# K-Fold\n",
    "k = 6\n",
    "num_val_samples = len(dataset) // k\n",
    "val_acc_list = [] # used for validation data accuracy\n",
    "val_loss_list = [] # used for Validation data loss\n",
    "\n",
    "for fold in range(k):\n",
    "    \n",
    "    # Validation dataset\n",
    "    val_data = X[fold * num_val_samples : (fold + 1) * num_val_samples]\n",
    "    \n",
    "    # Validation labels corresponding to the validation dataset\n",
    "    val_label = encoded_Y[fold * num_val_samples : (fold + 1) * num_val_samples]\n",
    "     # Training Dataset\n",
    "    partial_train_data = numpy.concatenate([X[:fold * num_val_samples],\n",
    "                                         X[(fold + 1) * num_val_samples:]],\n",
    "                                        axis=0)\n",
    "    \n",
    "    # Training labels corresponding to the training dataset\n",
    "    partial_train_label = numpy.concatenate([encoded_Y[:fold * num_val_samples],\n",
    "                                          encoded_Y[(fold + 1) * num_val_samples:]],\n",
    "                                         axis=0)\n",
    "    \n",
    "    model = Tune_model()\n",
    "    result = model.fit(partial_train_data, partial_train_label, epochs=200, batch_size=29, verbose=0, \n",
    "                       validation_data=(val_data, val_label))"
   ]
  },
  {
   "cell_type": "code",
   "execution_count": 34,
   "metadata": {
    "collapsed": false
   },
   "outputs": [
    {
     "data": {
      "image/png": "[encoded data removed]",
      "text/plain": [
       "<matplotlib.figure.Figure at 0x15c44470f60>"
      ]
     },
     "metadata": {},
     "output_type": "display_data"
    }
   ],
   "source": [
    "acc = result.history['acc']\n",
    "loss = result.history['loss']\n",
    "val_loss = result.history['val_loss']\n",
    "\n",
    "epochs = range(1, len(acc)+1)\n",
    "\n",
    "plt.plot(epochs, loss, 'bo', label='Training loss')\n",
    "plt.plot(epochs, val_loss, 'r', label='Validation loss')\n",
    "plt.title('Training and Validation loss')\n",
    "plt.xlabel('Epochs')\n",
    "plt.ylabel('Loss')\n",
    "plt.legend()\n",
    "plt.show()"
   ]
  },
  {
   "cell_type": "code",
   "execution_count": 35,
   "metadata": {
    "collapsed": false
   },
   "outputs": [
    {
     "data": {
      "image/png": "[encoded data removed]",
      "text/plain": [
       "<matplotlib.figure.Figure at 0x15c44535160>"
      ]
     },
     "metadata": {},
     "output_type": "display_data"
    }
   ],
   "source": [
    "plt.clf()\n",
    "\n",
    "loss = result.history['acc']\n",
    "val_loss = result.history['val_acc']\n",
    "\n",
    "epochs = range(1, len(acc)+1)\n",
    "\n",
    "plt.plot(epochs, loss, 'bo', label='Training Accuracy')\n",
    "plt.plot(epochs, val_loss, 'r', label='Validation Accuracy')\n",
    "plt.title('Training and Validation Accuracy')\n",
    "plt.xlabel('Epochs')\n",
    "plt.ylabel('Accuracy')\n",
    "plt.legend()\n",
    "plt.show()"
   ]
  },
  {
   "cell_type": "code",
   "execution_count": null,
   "metadata": {
    "collapsed": true
   },
   "outputs": [],
   "source": []
  }
 ],
 "metadata": {
  "kernelspec": {
   "display_name": "Python 3",
   "language": "python",
   "name": "python3"
  },
  "language_info": {
   "codemirror_mode": {
    "name": "ipython",
    "version": 3
   },
   "file_extension": ".py",
   "mimetype": "text/x-python",
   "name": "python",
   "nbconvert_exporter": "python",
   "pygments_lexer": "ipython3",
   "version": "3.6.0"
  }
 },
 "nbformat": 4,
 "nbformat_minor": 2
}
